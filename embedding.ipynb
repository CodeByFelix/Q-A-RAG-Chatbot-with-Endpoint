{
 "cells": [
  {
   "cell_type": "code",
   "execution_count": 1,
   "id": "e1178171",
   "metadata": {},
   "outputs": [],
   "source": [
    "from langchain_community.document_loaders import PyPDFLoader"
   ]
  },
  {
   "cell_type": "code",
   "execution_count": 2,
   "id": "15cbe950",
   "metadata": {},
   "outputs": [
    {
     "name": "stderr",
     "output_type": "stream",
     "text": [
      "Multiple definitions in dictionary at byte 0x299e for key /ExtGState\n",
      "Multiple definitions in dictionary at byte 0x2b37 for key /ExtGState\n",
      "Multiple definitions in dictionary at byte 0x2f72 for key /ExtGState\n",
      "Multiple definitions in dictionary at byte 0x317b for key /ExtGState\n",
      "Multiple definitions in dictionary at byte 0x287 for key /ExtGState\n",
      "Multiple definitions in dictionary at byte 0x40d for key /ExtGState\n",
      "Multiple definitions in dictionary at byte 0x594 for key /ExtGState\n"
     ]
    }
   ],
   "source": [
    "loader = PyPDFLoader (\"PDF/vscode.pdf\")\n",
    "\n",
    "pages = []\n",
    "async for page in loader.alazy_load():\n",
    "    pages.append (page)"
   ]
  },
  {
   "cell_type": "code",
   "execution_count": 19,
   "id": "c8687485",
   "metadata": {},
   "outputs": [
    {
     "data": {
      "text/plain": [
       "'1'"
      ]
     },
     "execution_count": 19,
     "metadata": {},
     "output_type": "execute_result"
    }
   ],
   "source": [
    "pages[0].metadata['page_label']"
   ]
  },
  {
   "cell_type": "code",
   "execution_count": 11,
   "id": "062bfea2",
   "metadata": {},
   "outputs": [],
   "source": [
    "import os\n",
    "from langchain_chroma import Chroma\n",
    "from langchain_huggingface import HuggingFaceEmbeddings\n",
    "from langchain.text_splitter import RecursiveCharacterTextSplitter\n",
    "import chromadb\n",
    "from more_itertools import chunked\n",
    "from tqdm import tqdm"
   ]
  },
  {
   "cell_type": "code",
   "execution_count": 7,
   "id": "bc0fbb6a",
   "metadata": {},
   "outputs": [
    {
     "data": {
      "text/plain": [
       "True"
      ]
     },
     "execution_count": 7,
     "metadata": {},
     "output_type": "execute_result"
    }
   ],
   "source": [
    "from dotenv import load_dotenv\n",
    "load_dotenv()"
   ]
  },
  {
   "cell_type": "code",
   "execution_count": 8,
   "id": "55cbcc85",
   "metadata": {},
   "outputs": [],
   "source": [
    "client = chromadb.CloudClient(\n",
    "  api_key = os.getenv (\"CHROMA_API_KEY\"),\n",
    "  tenant = os.getenv (\"CHROMA_TENANT\"),\n",
    "  database = 'ChromaDB'\n",
    ")"
   ]
  },
  {
   "cell_type": "code",
   "execution_count": 9,
   "id": "8c422bd4",
   "metadata": {},
   "outputs": [],
   "source": [
    "embedding_model = HuggingFaceEmbeddings(\n",
    "        model_name=\"BAAI/bge-large-en-v1.5\",\n",
    "        model_kwargs={'device': \"cpu\"}\n",
    "    )"
   ]
  },
  {
   "cell_type": "code",
   "execution_count": 10,
   "id": "742bb114",
   "metadata": {},
   "outputs": [],
   "source": [
    "vectorStore = Chroma (\n",
    "    collection_name=\"test_embedding\",\n",
    "    embedding_function=embedding_model,\n",
    "    client=client\n",
    ")"
   ]
  },
  {
   "cell_type": "code",
   "execution_count": 12,
   "id": "7ca9404e",
   "metadata": {},
   "outputs": [],
   "source": [
    "spliter = RecursiveCharacterTextSplitter (chunk_size=512, chunk_overlap=64)"
   ]
  },
  {
   "cell_type": "code",
   "execution_count": 16,
   "id": "6db0354c",
   "metadata": {},
   "outputs": [],
   "source": [
    "async def embedPDF (path: str):\n",
    "    \n",
    "    for pdf in tqdm (os.listdir(path), desc=\"Processing PDFs\"):\n",
    "        if pdf.endswith (\".pdf\"):\n",
    "            pdfPath = os.path.join(path, pdf)\n",
    "            loader = PyPDFLoader (pdfPath)\n",
    "            pages:list\n",
    "\n",
    "            async for page in loader.alazy_load ():\n",
    "                doc = spliter.split_documents ([page])\n",
    "                success = False\n",
    "                while not success:\n",
    "                    try:\n",
    "                        vectorStore.add_documents(doc)\n",
    "                        success = True\n",
    "                    except:\n",
    "                        print (\"Retrying page\")\n",
    "            print (f\"Done embedding {pdf}\")\n"
   ]
  },
  {
   "cell_type": "code",
   "execution_count": 17,
   "id": "77d2f9dc",
   "metadata": {},
   "outputs": [
    {
     "name": "stderr",
     "output_type": "stream",
     "text": [
      "Processing PDFs:   0%|          | 0/1 [00:00<?, ?it/s]Multiple definitions in dictionary at byte 0x299e for key /ExtGState\n",
      "Multiple definitions in dictionary at byte 0x2b37 for key /ExtGState\n",
      "Multiple definitions in dictionary at byte 0x2f72 for key /ExtGState\n",
      "Multiple definitions in dictionary at byte 0x317b for key /ExtGState\n",
      "Multiple definitions in dictionary at byte 0x287 for key /ExtGState\n",
      "Multiple definitions in dictionary at byte 0x40d for key /ExtGState\n",
      "Multiple definitions in dictionary at byte 0x594 for key /ExtGState\n",
      "Processing PDFs: 100%|██████████| 1/1 [01:38<00:00, 98.86s/it]"
     ]
    },
    {
     "name": "stdout",
     "output_type": "stream",
     "text": [
      "Done embedding vscode.pdf\n"
     ]
    },
    {
     "name": "stderr",
     "output_type": "stream",
     "text": [
      "\n"
     ]
    }
   ],
   "source": [
    "path = \"PDF\"\n",
    "await embedPDF (path=path)"
   ]
  },
  {
   "cell_type": "code",
   "execution_count": null,
   "id": "bff66ddc",
   "metadata": {},
   "outputs": [],
   "source": []
  },
  {
   "cell_type": "code",
   "execution_count": null,
   "id": "3b7c1e7b",
   "metadata": {},
   "outputs": [],
   "source": []
  }
 ],
 "metadata": {
  "kernelspec": {
   "display_name": "LangGraph",
   "language": "python",
   "name": "python3"
  },
  "language_info": {
   "codemirror_mode": {
    "name": "ipython",
    "version": 3
   },
   "file_extension": ".py",
   "mimetype": "text/x-python",
   "name": "python",
   "nbconvert_exporter": "python",
   "pygments_lexer": "ipython3",
   "version": "3.12.9"
  }
 },
 "nbformat": 4,
 "nbformat_minor": 5
}
